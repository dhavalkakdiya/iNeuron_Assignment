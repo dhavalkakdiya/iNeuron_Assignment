{
 "cells": [
  {
   "cell_type": "code",
   "execution_count": 7,
   "metadata": {},
   "outputs": [],
   "source": [
    "import pandas as pd\n",
    "import numpy as np"
   ]
  },
  {
   "cell_type": "code",
   "execution_count": 8,
   "metadata": {},
   "outputs": [],
   "source": [
    "# Write a function so that the columns of the output matrix are powers of the input vector."
   ]
  },
  {
   "cell_type": "code",
   "execution_count": 9,
   "metadata": {},
   "outputs": [],
   "source": [
    "a = np.array ([1,2,4,6])\n",
    "increasing = True"
   ]
  },
  {
   "cell_type": "code",
   "execution_count": 10,
   "metadata": {},
   "outputs": [],
   "source": [
    "#np.column_stack([a**(power-1-i) for i in range(power)])"
   ]
  },
  {
   "cell_type": "code",
   "execution_count": 11,
   "metadata": {},
   "outputs": [],
   "source": [
    "def custom_Vandermonde(x, increasing):\n",
    "    power = len(a)\n",
    "    if not increasing:\n",
    "        return np.column_stack([x**(power-1-i) for i in range(power)])\n",
    "    else:\n",
    "        return np.column_stack([x**i for i in range(power)])"
   ]
  },
  {
   "cell_type": "code",
   "execution_count": 12,
   "metadata": {},
   "outputs": [
    {
     "data": {
      "text/plain": [
       "array([[  1,   1,   1,   1],\n",
       "       [  1,   2,   4,   8],\n",
       "       [  1,   4,  16,  64],\n",
       "       [  1,   6,  36, 216]], dtype=int32)"
      ]
     },
     "execution_count": 12,
     "metadata": {},
     "output_type": "execute_result"
    }
   ],
   "source": [
    "custom_Vandermonde(a,increasing)"
   ]
  },
  {
   "cell_type": "code",
   "execution_count": 13,
   "metadata": {},
   "outputs": [],
   "source": [
    "increasing = False"
   ]
  },
  {
   "cell_type": "code",
   "execution_count": 14,
   "metadata": {},
   "outputs": [
    {
     "data": {
      "text/plain": [
       "array([[  1,   1,   1,   1],\n",
       "       [  8,   4,   2,   1],\n",
       "       [ 64,  16,   4,   1],\n",
       "       [216,  36,   6,   1]], dtype=int32)"
      ]
     },
     "execution_count": 14,
     "metadata": {},
     "output_type": "execute_result"
    }
   ],
   "source": [
    "custom_Vandermonde(a,increasing)"
   ]
  },
  {
   "cell_type": "code",
   "execution_count": 15,
   "metadata": {},
   "outputs": [],
   "source": [
    "# Write a function to find moving average in an array over a window\n",
    "np.set_printoptions(precision = 2)\n"
   ]
  },
  {
   "cell_type": "code",
   "execution_count": 16,
   "metadata": {},
   "outputs": [],
   "source": [
    "b = np.array([3, 5, 7, 2, 8, 10, 11, 65, 72, 81, 99, 100, 150])"
   ]
  },
  {
   "cell_type": "code",
   "execution_count": 17,
   "metadata": {},
   "outputs": [
    {
     "data": {
      "text/plain": [
       "array([  3,   5,   7,   2,   8,  10,  11,  65,  72,  81,  99, 100, 150])"
      ]
     },
     "execution_count": 17,
     "metadata": {},
     "output_type": "execute_result"
    }
   ],
   "source": [
    "b"
   ]
  },
  {
   "cell_type": "code",
   "execution_count": 18,
   "metadata": {},
   "outputs": [],
   "source": [
    "n = 3"
   ]
  },
  {
   "cell_type": "code",
   "execution_count": 19,
   "metadata": {},
   "outputs": [
    {
     "data": {
      "text/plain": [
       "array([  5.  ,   4.67,   5.67,   6.67,   9.67,  28.67,  49.33,  72.67,\n",
       "        84.  ,  93.33, 116.33])"
      ]
     },
     "execution_count": 19,
     "metadata": {},
     "output_type": "execute_result"
    }
   ],
   "source": [
    "def movingAvg(x,n):\n",
    "    cumsum = np.cumsum(np.insert(x,0,0)) \n",
    "    return (cumsum[n:] - cumsum[:-n]) / n\n",
    "movingAvg(b,n)"
   ]
  },
  {
   "cell_type": "code",
   "execution_count": 20,
   "metadata": {},
   "outputs": [
    {
     "data": {
      "text/plain": [
       "array([  5.  ,   4.67,   5.67,   6.67,   9.67,  28.67,  49.33,  72.67,\n",
       "        84.  ,  93.33, 116.33])"
      ]
     },
     "execution_count": 20,
     "metadata": {},
     "output_type": "execute_result"
    }
   ],
   "source": [
    "def movingAvgg(x,n):\n",
    "    list = []\n",
    "    arr = np.array(list)\n",
    "    for i in range(len(x)-n+1):\n",
    "        list.append(np.sum(x[i:n+i]) / n)\n",
    "    return np.array(list)\n",
    "movingAvgg(b,n)"
   ]
  },
  {
   "cell_type": "code",
   "execution_count": null,
   "metadata": {},
   "outputs": [],
   "source": []
  }
 ],
 "metadata": {
  "kernelspec": {
   "display_name": "Python 3",
   "language": "python",
   "name": "python3"
  },
  "language_info": {
   "codemirror_mode": {
    "name": "ipython",
    "version": 3
   },
   "file_extension": ".py",
   "mimetype": "text/x-python",
   "name": "python",
   "nbconvert_exporter": "python",
   "pygments_lexer": "ipython3",
   "version": "3.7.1"
  }
 },
 "nbformat": 4,
 "nbformat_minor": 2
}
